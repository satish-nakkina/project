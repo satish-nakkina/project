{
 "cells": [
  {
   "cell_type": "code",
   "execution_count": 50,
   "metadata": {},
   "outputs": [],
   "source": [
    "from keras.models import Sequential\n",
    "from keras.layers import Conv2D, MaxPooling2D, Flatten, Dense\n",
    "from keras.preprocessing.image import ImageDataGenerator\n",
    "import numpy as np\n",
    "from PIL import Image\n"
   ]
  },
  {
   "cell_type": "code",
   "execution_count": 51,
   "metadata": {},
   "outputs": [],
   "source": [
    "model = Sequential()\n",
    "model.add(Conv2D(32, (3, 3), input_shape=(64, 64, 3), activation='relu'))\n",
    "model.add(MaxPooling2D(pool_size=(2, 2)))\n",
    "model.add(Flatten())\n",
    "model.add(Dense(units=128, activation='relu'))\n",
    "model.add(Dense(units=1, activation='sigmoid'))\n",
    "model.compile(optimizer='adam', loss='binary_crossentropy', metrics=['accuracy'])\n"
   ]
  },
  {
   "cell_type": "code",
   "execution_count": 52,
   "metadata": {},
   "outputs": [
    {
     "name": "stdout",
     "output_type": "stream",
     "text": [
      "Found 312 images belonging to 2 classes.\n",
      "Found 52 images belonging to 2 classes.\n"
     ]
    }
   ],
   "source": [
    "train_datagen = ImageDataGenerator(rescale=1./255, shear_range=0.2, zoom_range=0.2, horizontal_flip=True)\n",
    "test_datagen = ImageDataGenerator(rescale=1./255)\n",
    "train_generator = train_datagen.flow_from_directory('C:/Users/User/Desktop/project/Data/train/', target_size=(64, 64), batch_size=32, class_mode='binary')\n",
    "test_generator = test_datagen.flow_from_directory('C:/Users/User/Desktop/project/Data/test/', target_size=(64, 64), batch_size=32, class_mode='binary', shuffle=False)\n"
   ]
  },
  {
   "cell_type": "code",
   "execution_count": 53,
   "metadata": {},
   "outputs": [
    {
     "name": "stderr",
     "output_type": "stream",
     "text": [
      "C:\\Users\\User\\AppData\\Local\\Temp\\ipykernel_6124\\1815525416.py:1: UserWarning: `Model.fit_generator` is deprecated and will be removed in a future version. Please use `Model.fit`, which supports generators.\n",
      "  model.fit_generator(train_generator, steps_per_epoch=len(train_generator), epochs=10, validation_data=test_generator, validation_steps=len(test_generator))\n"
     ]
    },
    {
     "name": "stdout",
     "output_type": "stream",
     "text": [
      "Epoch 1/10\n",
      "10/10 [==============================] - 4s 228ms/step - loss: 1.2257 - accuracy: 0.5641 - val_loss: 0.4789 - val_accuracy: 0.8077\n",
      "Epoch 2/10\n",
      "10/10 [==============================] - 2s 186ms/step - loss: 0.3864 - accuracy: 0.8109 - val_loss: 0.4420 - val_accuracy: 0.7500\n",
      "Epoch 3/10\n",
      "10/10 [==============================] - 2s 215ms/step - loss: 0.3453 - accuracy: 0.8429 - val_loss: 0.4237 - val_accuracy: 0.8077\n",
      "Epoch 4/10\n",
      "10/10 [==============================] - 2s 208ms/step - loss: 0.2994 - accuracy: 0.8750 - val_loss: 0.4436 - val_accuracy: 0.7500\n",
      "Epoch 5/10\n",
      "10/10 [==============================] - 2s 197ms/step - loss: 0.2777 - accuracy: 0.8750 - val_loss: 0.3332 - val_accuracy: 0.8269\n",
      "Epoch 6/10\n",
      "10/10 [==============================] - 2s 196ms/step - loss: 0.2199 - accuracy: 0.9038 - val_loss: 0.3224 - val_accuracy: 0.8269\n",
      "Epoch 7/10\n",
      "10/10 [==============================] - 2s 194ms/step - loss: 0.2010 - accuracy: 0.9135 - val_loss: 0.3002 - val_accuracy: 0.8462\n",
      "Epoch 8/10\n",
      "10/10 [==============================] - 2s 201ms/step - loss: 0.1904 - accuracy: 0.9231 - val_loss: 0.3046 - val_accuracy: 0.8462\n",
      "Epoch 9/10\n",
      "10/10 [==============================] - 2s 209ms/step - loss: 0.1631 - accuracy: 0.9455 - val_loss: 0.2675 - val_accuracy: 0.8846\n",
      "Epoch 10/10\n",
      "10/10 [==============================] - 2s 203ms/step - loss: 0.1604 - accuracy: 0.9391 - val_loss: 0.3214 - val_accuracy: 0.8462\n"
     ]
    },
    {
     "data": {
      "text/plain": [
       "<keras.callbacks.History at 0x12518ce1450>"
      ]
     },
     "execution_count": 53,
     "metadata": {},
     "output_type": "execute_result"
    }
   ],
   "source": [
    "model.fit_generator(train_generator, steps_per_epoch=len(train_generator), epochs=10, validation_data=test_generator, validation_steps=len(test_generator))\n"
   ]
  },
  {
   "cell_type": "code",
   "execution_count": 54,
   "metadata": {},
   "outputs": [],
   "source": [
    "model.save('classifier.h5')"
   ]
  },
  {
   "cell_type": "code",
   "execution_count": 55,
   "metadata": {},
   "outputs": [
    {
     "name": "stdout",
     "output_type": "stream",
     "text": [
      "2/2 [==============================] - 0s 33ms/step - loss: 0.3214 - accuracy: 0.8462\n",
      "Test accuracy: 0.8461538553237915\n"
     ]
    }
   ],
   "source": [
    "loss, accuracy = model.evaluate(test_generator)\n",
    "print('Test accuracy:', accuracy)\n"
   ]
  },
  {
   "cell_type": "code",
   "execution_count": 56,
   "metadata": {},
   "outputs": [
    {
     "name": "stdout",
     "output_type": "stream",
     "text": [
      "1/1 [==============================] - 0s 98ms/step\n",
      "0.9063734\n",
      "Not fire\n"
     ]
    }
   ],
   "source": [
    "def predict(img_path):\n",
    "    img = Image.open(img_path).resize((64, 64))\n",
    "    img = np.array(img) / 255.0\n",
    "    img = np.expand_dims(img, axis=0)\n",
    "    result = model.predict(img)\n",
    "    if result[0][0] > 0.9:\n",
    "        print(result[0][0])\n",
    "        return \"Not fire\"\n",
    "    else:\n",
    "        print(result[0][0])\n",
    "        return \"Fire\"\n",
    "img_path = 'C:/Users/User/Desktop/project/Data/train/no-fire/abc240.jpg'\n",
    "prediction = predict(img_path)\n",
    "print(prediction)"
   ]
  }
 ],
 "metadata": {
  "kernelspec": {
   "display_name": "Python 3",
   "language": "python",
   "name": "python3"
  },
  "language_info": {
   "codemirror_mode": {
    "name": "ipython",
    "version": 3
   },
   "file_extension": ".py",
   "mimetype": "text/x-python",
   "name": "python",
   "nbconvert_exporter": "python",
   "pygments_lexer": "ipython3",
   "version": "3.10.10"
  },
  "orig_nbformat": 4,
  "vscode": {
   "interpreter": {
    "hash": "ebfc0a8d552866b0d59eba665220a57de3bc06f3ac643b8bef38dd8f66781fdd"
   }
  }
 },
 "nbformat": 4,
 "nbformat_minor": 2
}
