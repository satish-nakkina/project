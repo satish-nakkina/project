from keras.models import Sequential
from keras.layers import Conv2D, MaxPooling2D, Flatten, Dense
from keras.preprocessing.image import ImageDataGenerator
import numpy as np
from PIL import Image

model = Sequential()
model.add(Conv2D(32, (3, 3), input_shape=(64, 64, 3), activation='relu'))
model.add(MaxPooling2D(pool_size=(2, 2)))
model.add(Conv2D(64, (3, 3), activation='relu'))
model.add(MaxPooling2D(pool_size=(2, 2)))
model.add(Conv2D(128, (3, 3), activation='relu'))
model.add(MaxPooling2D(pool_size=(2, 2)))
model.add(Flatten())
model.add(Dense(units=256, activation='relu'))
model.add(Dense(units=128, activation='relu'))
model.add(Dense(units=1, activation='sigmoid'))


# defining 1st model architecture

# loading the base-model
from keras.applications.vgg16 import VGG16
from keras.layers import Flatten, Dense, Dropout
from keras.models import Model
base_model = VGG16(weights='imagenet',include_top=False,input_shape=(224,224,3))


for layer in base_model.layers:
  layer.trainable=False


flat = Flatten()(base_model.get_layer('block3_pool').output)
dense1 = Dense(units=128,activation='relu',kernel_initializer="he_uniform")(flat)
drp = Dropout(0.3)(dense1)
dense2 = Dense(units=64,activation='relu',kernel_initializer="he_uniform")(drp)
dense3 = Dense(units=32,activation='relu',kernel_initializer="he_uniform")(dense2)
output = Dense(units=1,activation="sigmoid")(dense3)

# define the model
model5 = Model(inputs=base_model.inputs,outputs=output)




# train_datagen = ImageDataGenerator(rescale=1./255, shear_range=0.2, zoom_range=0.2, horizontal_flip=True)
# test_datagen = ImageDataGenerator(rescale=1./255)
# train_generator = train_datagen.flow_from_directory('C:/Users/User/Desktop/project/Images/training/', target_size=(64, 64), batch_size=32, class_mode='binary')
# test_generator = test_datagen.flow_from_directory('C:/Users/User/Desktop/project/Images/testing/', target_size=(64, 64), batch_size=32, class_mode='binary', shuffle=False)
# model.compile(optimizer='adam', loss='binary_crossentropy', metrics=['accuracy'])
train_datagen = ImageDataGenerator(rescale=1./255, shear_range=0.2, zoom_range=0.2, horizontal_flip=True)
test_datagen = ImageDataGenerator(rescale=1./255)
train_generator = train_datagen.flow_from_directory('C:/Users/User/Desktop/project/Images/training/', target_size=(224, 224), batch_size=32, class_mode='binary')
test_generator = test_datagen.flow_from_directory('C:/Users/User/Desktop/project/Images/testing/', target_size=(224, 224), batch_size=32, class_mode='binary', shuffle=False)
model5.compile(optimizer='adam', loss='binary_crossentropy', metrics=['accuracy'])
model5.fit(train_generator, steps_per_epoch=len(train_generator), epochs=10, validation_data=test_generator, validation_steps=len(test_generator))

model.fit(train_generator, steps_per_epoch=len(train_generator), epochs=10, validation_data=test_generator, validation_steps=len(test_generator))

# model.save('classifier.h5')
model5.save('classifier5.h5')
loss, accuracy = model5.evaluate(test_generator)
print('Test accuracy:', accuracy)

import cv2
from tensorflow.keras.preprocessing.image import load_img,img_to_array
def predict(img_path):
    # img = Image.open(img_path).resize((64, 64))
    img = load_img(img_path, target_size=(64, 64)) 
    # img = cv2.cvtColor(img, cv2.COLOR_BGR2RGB)
    # img = img/255.0
    img = img_to_array(img)
    img = np.expand_dims(img, axis=0)
    result = model.predict(img)
    if result[0][0] > 0.5:
        print(result[0][0])
        return "Not fire"
    else:
        print(result[0][0])
        return "Fire"
img_path = 'C:/Users/User/Desktop/project/Data/test/no-fire/abc350.jpg'
prediction = predict(img_path)
print(prediction)
